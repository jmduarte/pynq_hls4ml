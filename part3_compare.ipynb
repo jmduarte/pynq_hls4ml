{
 "cells": [
  {
   "cell_type": "markdown",
   "id": "lyric-latex",
   "metadata": {},
   "source": [
    "## Compare\n",
    "Now you've run the inference on the Pynq, copy the `y_pynq.npy` file back to this machine and let's make some plots."
   ]
  },
  {
   "cell_type": "code",
   "execution_count": null,
   "id": "republican-surveillance",
   "metadata": {},
   "outputs": [],
   "source": [
    "import numpy as np\n",
    "import matplotlib.pyplot as plt\n",
    "import plotting\n",
    "from sklearn.metrics import accuracy_score\n",
    "%matplotlib inline"
   ]
  },
  {
   "cell_type": "code",
   "execution_count": null,
   "id": "experienced-paintball",
   "metadata": {},
   "outputs": [],
   "source": [
    "# load the data\n",
    "y_test = np.load('y_test.npy')\n",
    "y_pynq = np.load('y_pynq.npy')\n",
    "y_keras = np.load('y_qkeras.npy')\n",
    "y_hls = np.load('y_hls.npy')\n",
    "classes = np.load('classes.npy', allow_pickle=True)\n",
    "print(\"Accuracy QKeras:            {}\".format(accuracy_score(np.argmax(y_test, axis=1), np.argmax(y_keras, axis=1))))\n",
    "print(\"Accuracy hls_model.predict: {}\".format(accuracy_score(np.argmax(y_test, axis=1), np.argmax(y_hls, axis=1))))\n",
    "print(\"Accuracy hls4ml on PYNQ:    {}\".format(accuracy_score(np.argmax(y_test, axis=1), np.argmax(y_pynq, axis=1))))"
   ]
  },
  {
   "cell_type": "code",
   "execution_count": null,
   "id": "faced-heavy",
   "metadata": {},
   "outputs": [],
   "source": [
    "fig, ax = plt.subplots(figsize=(9, 9))\n",
    "_ = plotting.makeRoc(y_test, y_keras, classes)\n",
    "plt.gca().set_prop_cycle(None) # reset the colors\n",
    "_ = plotting.makeRoc(y_test, y_hls, classes, linestyle='--')\n",
    "plt.gca().set_prop_cycle(None) # reset the colors\n",
    "_ = plotting.makeRoc(y_test, y_pynq, classes, linestyle=':')\n",
    "\n",
    "from matplotlib.lines import Line2D\n",
    "lines = [Line2D([0], [0], ls='-'),\n",
    "         Line2D([0], [0], ls='--'),\n",
    "         Line2D([0], [0], ls=':')]\n",
    "from matplotlib.legend import Legend\n",
    "leg = Legend(ax, lines, labels=['QKeras', 'hls4ml predict', 'hls4ml PYNQ'],\n",
    "            loc='lower right', frameon=False)\n",
    "ax.add_artist(leg)"
   ]
  },
  {
   "cell_type": "code",
   "execution_count": null,
   "id": "respective-longitude",
   "metadata": {},
   "outputs": [],
   "source": []
  }
 ],
 "metadata": {
  "kernelspec": {
   "display_name": "Python 3",
   "language": "python",
   "name": "python3"
  },
  "language_info": {
   "codemirror_mode": {
    "name": "ipython",
    "version": 3
   },
   "file_extension": ".py",
   "mimetype": "text/x-python",
   "name": "python",
   "nbconvert_exporter": "python",
   "pygments_lexer": "ipython3",
   "version": "3.7.9"
  }
 },
 "nbformat": 4,
 "nbformat_minor": 5
}
